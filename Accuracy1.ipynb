{
 "cells": [
  {
   "cell_type": "code",
   "execution_count": 1,
   "id": "1585a3eb-1c2a-4c3c-91af-b604b0ed65de",
   "metadata": {},
   "outputs": [],
   "source": [
    "import tensorflow as tf\n",
    "from keras.preprocessing.image import ImageDataGenerator\n",
    "from keras.models import load_model\n",
    "import os\n",
    "import matplotlib.pyplot as plt\n",
    "from keras.models import load_model"
   ]
  },
  {
   "cell_type": "code",
   "execution_count": 2,
   "id": "4fb4d2d9-b347-42f9-ad35-4fc2eaee5a4c",
   "metadata": {},
   "outputs": [
    {
     "name": "stdout",
     "output_type": "stream",
     "text": [
      "Found 27472 images belonging to 7 classes.\n"
     ]
    }
   ],
   "source": [
    "train_datagen = ImageDataGenerator(\n",
    "    rescale = 1./255,   ## rescale or normalize the images pixels, by dividing them 255\n",
    "    shear_range = 0.2,  ## angle for slant of image in degrees\n",
    "    zoom_range = 0.2,   ## for zoom in or out\n",
    "    horizontal_flip = True \n",
    ")\n",
    "training_set = train_datagen.flow_from_directory(\n",
    "    'D:\\\\movie-recommendation-system\\\\Emotion_detection\\\\data\\\\train',   ## give path of training set\n",
    "    target_size=(48,48),      ## target_size of image in which you want\n",
    "    batch_size=32,\n",
    "    color_mode = \"grayscale\",\n",
    "    class_mode = 'categorical'\n",
    ")"
   ]
  },
  {
   "cell_type": "code",
   "execution_count": 3,
   "id": "bee831e0-1e58-4e46-99eb-957c4c968be2",
   "metadata": {},
   "outputs": [
    {
     "name": "stdout",
     "output_type": "stream",
     "text": [
      "Found 7178 images belonging to 7 classes.\n"
     ]
    }
   ],
   "source": [
    "test_datagen = ImageDataGenerator(rescale=1./255)\n",
    "test_set = test_datagen.flow_from_directory(\n",
    "    'D:\\\\movie-recommendation-system\\\\Emotion_detection\\\\data\\\\test',\n",
    "    target_size = (48,48),\n",
    "    batch_size = 32,\n",
    "    color_mode = \"grayscale\",\n",
    "    class_mode = 'categorical'\n",
    ")"
   ]
  },
  {
   "cell_type": "code",
   "execution_count": 16,
   "id": "58bbcec6-ddf9-49ce-8871-d99062aa1d11",
   "metadata": {},
   "outputs": [
    {
     "name": "stdout",
     "output_type": "stream",
     "text": [
      "898/898 [==============================] - 462s 514ms/step - loss: 0.7883 - accuracy: 0.7206\n",
      "225/225 [==============================] - 85s 377ms/step - loss: 0.9884 - accuracy: 0.6360\n",
      "final train accuracy = 72.06 , validation accuracy = 63.60\n"
     ]
    }
   ],
   "source": [
    "model_path1 = 'D:\\\\movie-recommendation-system\\\\Emotion_detection\\\\models\\\\model.h5'\n",
    "model1 = load_model(model_path1)\n",
    "train_loss, train_acc = model1.evaluate(training_set)\n",
    "test_loss, test_acc   = model1.evaluate(test_set)\n",
    "print(\"final train accuracy = {:.2f} , validation accuracy = {:.2f}\".format(train_acc*100, test_acc*100))"
   ]
  },
  {
   "cell_type": "code",
   "execution_count": null,
   "id": "b0b2aa5b-3b7d-423d-bc5c-01d56409526b",
   "metadata": {},
   "outputs": [],
   "source": []
  }
 ],
 "metadata": {
  "kernelspec": {
   "display_name": "Python 3 (ipykernel)",
   "language": "python",
   "name": "python3"
  },
  "language_info": {
   "codemirror_mode": {
    "name": "ipython",
    "version": 3
   },
   "file_extension": ".py",
   "mimetype": "text/x-python",
   "name": "python",
   "nbconvert_exporter": "python",
   "pygments_lexer": "ipython3",
   "version": "3.8.0"
  }
 },
 "nbformat": 4,
 "nbformat_minor": 5
}
